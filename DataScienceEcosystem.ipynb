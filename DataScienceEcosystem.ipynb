{
 "cells": [
  {
   "cell_type": "markdown",
   "id": "15138ea4-a142-4f3d-879e-f6dd53b85781",
   "metadata": {},
   "source": [
    "# Data Science Tools and Ecosystem"
   ]
  },
  {
   "cell_type": "markdown",
   "id": "3e4d0693-a0a5-4dec-9267-cdaceda63b78",
   "metadata": {},
   "source": [
    "In this notebook, Data Science Tools and Ecosystem are summarized."
   ]
  },
  {
   "cell_type": "markdown",
   "id": "8b96c494-6129-4991-8113-fd58891683c4",
   "metadata": {},
   "source": [
    "**Objectives:**\n",
    "* List Data Science languages\n",
    "* List Data Science libraries\n",
    "* List Data Science tools\n",
    "* Multiply and add numbers\n",
    "* Convert minutes to hours"
   ]
  },
  {
   "cell_type": "markdown",
   "id": "99170ecc-27a2-4d26-96b8-07729e487bd2",
   "metadata": {},
   "source": [
    "Some of the popular languages that Data Scientists use are:\n",
    "1. Python\n",
    "2. R\n",
    "3. SQL\n",
    "4. Java\n",
    "5. Scala\n",
    "6. C++\n",
    "7. JavaScript\n",
    "8. Julia Julia "
   ]
  },
  {
   "cell_type": "markdown",
   "id": "01099909-cb56-4048-be68-6ee523a19a86",
   "metadata": {},
   "source": [
    "Some of the commonly used libraries used by Data Scientists include:\n",
    "1. Pandas\n",
    "2. NumPy\n",
    "3. SciPy\n",
    "4. Matplotib"
   ]
  },
  {
   "cell_type": "markdown",
   "id": "6a51caee-6cdf-49c1-9688-5af7b1f91da3",
   "metadata": {},
   "source": [
    "|Data Science Tools| \n",
    "| ------------- |\n",
    "|Python         |\n",
    "| R     | \n",
    "| Tableau      |"
   ]
  },
  {
   "cell_type": "markdown",
   "id": "9eb5b805-655f-481b-9d15-bac2efea8ddd",
   "metadata": {},
   "source": [
    "### Below are a few examples of evaluating arithmetic expressions in Python"
   ]
  },
  {
   "cell_type": "code",
   "execution_count": 11,
   "id": "b9127d2d-8953-46ac-8797-9b9980ea9083",
   "metadata": {},
   "outputs": [
    {
     "data": {
      "text/plain": [
       "17"
      ]
     },
     "execution_count": 11,
     "metadata": {},
     "output_type": "execute_result"
    }
   ],
   "source": [
    "# This a simple arithmetic expression to mutiply then add integers\n",
    "(3*4)+5"
   ]
  },
  {
   "cell_type": "code",
   "execution_count": 13,
   "id": "762be114-7e4c-486f-b618-8fbf7ece086b",
   "metadata": {},
   "outputs": [
    {
     "data": {
      "text/plain": [
       "3.3333333333333335"
      ]
     },
     "execution_count": 13,
     "metadata": {},
     "output_type": "execute_result"
    }
   ],
   "source": [
    "# This will convert 200 minutes to hours by diving by 60\n",
    "200/60"
   ]
  },
  {
   "cell_type": "markdown",
   "id": "d614cab4-9183-4ebf-91c6-75832489dff5",
   "metadata": {},
   "source": [
    "## Author\n",
    "   Merlin Kamgue"
   ]
  },
  {
   "cell_type": "code",
   "execution_count": null,
   "id": "6c07959c-9195-4885-8cdc-4ef734f8a4a0",
   "metadata": {},
   "outputs": [],
   "source": []
  }
 ],
 "metadata": {
  "kernelspec": {
   "display_name": "Python 3 (ipykernel)",
   "language": "python",
   "name": "python3"
  },
  "language_info": {
   "codemirror_mode": {
    "name": "ipython",
    "version": 3
   },
   "file_extension": ".py",
   "mimetype": "text/x-python",
   "name": "python",
   "nbconvert_exporter": "python",
   "pygments_lexer": "ipython3",
   "version": "3.11.7"
  }
 },
 "nbformat": 4,
 "nbformat_minor": 5
}
